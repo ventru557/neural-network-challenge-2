{
  "cells": [
    {
      "cell_type": "markdown",
      "metadata": {
        "id": "alIIEHibGc3M"
      },
      "source": [
        "## Part 1: Preprocessing"
      ]
    },
    {
      "cell_type": "code",
      "execution_count": 1,
      "metadata": {
        "colab": {
          "base_uri": "https://localhost:8080/",
          "height": 325
        },
        "id": "6eDUJ4NtGc3P",
        "outputId": "2480098c-135c-4cbf-9552-018494ee8ff5"
      },
      "outputs": [
        {
          "data": {
            "text/html": [
              "<div>\n",
              "<style scoped>\n",
              "    .dataframe tbody tr th:only-of-type {\n",
              "        vertical-align: middle;\n",
              "    }\n",
              "\n",
              "    .dataframe tbody tr th {\n",
              "        vertical-align: top;\n",
              "    }\n",
              "\n",
              "    .dataframe thead th {\n",
              "        text-align: right;\n",
              "    }\n",
              "</style>\n",
              "<table border=\"1\" class=\"dataframe\">\n",
              "  <thead>\n",
              "    <tr style=\"text-align: right;\">\n",
              "      <th></th>\n",
              "      <th>Age</th>\n",
              "      <th>Attrition</th>\n",
              "      <th>BusinessTravel</th>\n",
              "      <th>Department</th>\n",
              "      <th>DistanceFromHome</th>\n",
              "      <th>Education</th>\n",
              "      <th>EducationField</th>\n",
              "      <th>EnvironmentSatisfaction</th>\n",
              "      <th>HourlyRate</th>\n",
              "      <th>JobInvolvement</th>\n",
              "      <th>...</th>\n",
              "      <th>PerformanceRating</th>\n",
              "      <th>RelationshipSatisfaction</th>\n",
              "      <th>StockOptionLevel</th>\n",
              "      <th>TotalWorkingYears</th>\n",
              "      <th>TrainingTimesLastYear</th>\n",
              "      <th>WorkLifeBalance</th>\n",
              "      <th>YearsAtCompany</th>\n",
              "      <th>YearsInCurrentRole</th>\n",
              "      <th>YearsSinceLastPromotion</th>\n",
              "      <th>YearsWithCurrManager</th>\n",
              "    </tr>\n",
              "  </thead>\n",
              "  <tbody>\n",
              "    <tr>\n",
              "      <th>0</th>\n",
              "      <td>41</td>\n",
              "      <td>Yes</td>\n",
              "      <td>Travel_Rarely</td>\n",
              "      <td>Sales</td>\n",
              "      <td>1</td>\n",
              "      <td>2</td>\n",
              "      <td>Life Sciences</td>\n",
              "      <td>2</td>\n",
              "      <td>94</td>\n",
              "      <td>3</td>\n",
              "      <td>...</td>\n",
              "      <td>3</td>\n",
              "      <td>1</td>\n",
              "      <td>0</td>\n",
              "      <td>8</td>\n",
              "      <td>0</td>\n",
              "      <td>1</td>\n",
              "      <td>6</td>\n",
              "      <td>4</td>\n",
              "      <td>0</td>\n",
              "      <td>5</td>\n",
              "    </tr>\n",
              "    <tr>\n",
              "      <th>1</th>\n",
              "      <td>49</td>\n",
              "      <td>No</td>\n",
              "      <td>Travel_Frequently</td>\n",
              "      <td>Research &amp; Development</td>\n",
              "      <td>8</td>\n",
              "      <td>1</td>\n",
              "      <td>Life Sciences</td>\n",
              "      <td>3</td>\n",
              "      <td>61</td>\n",
              "      <td>2</td>\n",
              "      <td>...</td>\n",
              "      <td>4</td>\n",
              "      <td>4</td>\n",
              "      <td>1</td>\n",
              "      <td>10</td>\n",
              "      <td>3</td>\n",
              "      <td>3</td>\n",
              "      <td>10</td>\n",
              "      <td>7</td>\n",
              "      <td>1</td>\n",
              "      <td>7</td>\n",
              "    </tr>\n",
              "    <tr>\n",
              "      <th>2</th>\n",
              "      <td>37</td>\n",
              "      <td>Yes</td>\n",
              "      <td>Travel_Rarely</td>\n",
              "      <td>Research &amp; Development</td>\n",
              "      <td>2</td>\n",
              "      <td>2</td>\n",
              "      <td>Other</td>\n",
              "      <td>4</td>\n",
              "      <td>92</td>\n",
              "      <td>2</td>\n",
              "      <td>...</td>\n",
              "      <td>3</td>\n",
              "      <td>2</td>\n",
              "      <td>0</td>\n",
              "      <td>7</td>\n",
              "      <td>3</td>\n",
              "      <td>3</td>\n",
              "      <td>0</td>\n",
              "      <td>0</td>\n",
              "      <td>0</td>\n",
              "      <td>0</td>\n",
              "    </tr>\n",
              "    <tr>\n",
              "      <th>3</th>\n",
              "      <td>33</td>\n",
              "      <td>No</td>\n",
              "      <td>Travel_Frequently</td>\n",
              "      <td>Research &amp; Development</td>\n",
              "      <td>3</td>\n",
              "      <td>4</td>\n",
              "      <td>Life Sciences</td>\n",
              "      <td>4</td>\n",
              "      <td>56</td>\n",
              "      <td>3</td>\n",
              "      <td>...</td>\n",
              "      <td>3</td>\n",
              "      <td>3</td>\n",
              "      <td>0</td>\n",
              "      <td>8</td>\n",
              "      <td>3</td>\n",
              "      <td>3</td>\n",
              "      <td>8</td>\n",
              "      <td>7</td>\n",
              "      <td>3</td>\n",
              "      <td>0</td>\n",
              "    </tr>\n",
              "    <tr>\n",
              "      <th>4</th>\n",
              "      <td>27</td>\n",
              "      <td>No</td>\n",
              "      <td>Travel_Rarely</td>\n",
              "      <td>Research &amp; Development</td>\n",
              "      <td>2</td>\n",
              "      <td>1</td>\n",
              "      <td>Medical</td>\n",
              "      <td>1</td>\n",
              "      <td>40</td>\n",
              "      <td>3</td>\n",
              "      <td>...</td>\n",
              "      <td>3</td>\n",
              "      <td>4</td>\n",
              "      <td>1</td>\n",
              "      <td>6</td>\n",
              "      <td>3</td>\n",
              "      <td>3</td>\n",
              "      <td>2</td>\n",
              "      <td>2</td>\n",
              "      <td>2</td>\n",
              "      <td>2</td>\n",
              "    </tr>\n",
              "  </tbody>\n",
              "</table>\n",
              "<p>5 rows × 27 columns</p>\n",
              "</div>"
            ],
            "text/plain": [
              "   Age Attrition     BusinessTravel              Department  DistanceFromHome  \\\n",
              "0   41       Yes      Travel_Rarely                   Sales                 1   \n",
              "1   49        No  Travel_Frequently  Research & Development                 8   \n",
              "2   37       Yes      Travel_Rarely  Research & Development                 2   \n",
              "3   33        No  Travel_Frequently  Research & Development                 3   \n",
              "4   27        No      Travel_Rarely  Research & Development                 2   \n",
              "\n",
              "   Education EducationField  EnvironmentSatisfaction  HourlyRate  \\\n",
              "0          2  Life Sciences                        2          94   \n",
              "1          1  Life Sciences                        3          61   \n",
              "2          2          Other                        4          92   \n",
              "3          4  Life Sciences                        4          56   \n",
              "4          1        Medical                        1          40   \n",
              "\n",
              "   JobInvolvement  ...  PerformanceRating RelationshipSatisfaction  \\\n",
              "0               3  ...                  3                        1   \n",
              "1               2  ...                  4                        4   \n",
              "2               2  ...                  3                        2   \n",
              "3               3  ...                  3                        3   \n",
              "4               3  ...                  3                        4   \n",
              "\n",
              "   StockOptionLevel TotalWorkingYears  TrainingTimesLastYear WorkLifeBalance  \\\n",
              "0                 0                 8                      0               1   \n",
              "1                 1                10                      3               3   \n",
              "2                 0                 7                      3               3   \n",
              "3                 0                 8                      3               3   \n",
              "4                 1                 6                      3               3   \n",
              "\n",
              "   YearsAtCompany  YearsInCurrentRole  YearsSinceLastPromotion  \\\n",
              "0               6                   4                        0   \n",
              "1              10                   7                        1   \n",
              "2               0                   0                        0   \n",
              "3               8                   7                        3   \n",
              "4               2                   2                        2   \n",
              "\n",
              "   YearsWithCurrManager  \n",
              "0                     5  \n",
              "1                     7  \n",
              "2                     0  \n",
              "3                     0  \n",
              "4                     2  \n",
              "\n",
              "[5 rows x 27 columns]"
            ]
          },
          "execution_count": 1,
          "metadata": {},
          "output_type": "execute_result"
        }
      ],
      "source": [
        "# Import our dependencies\n",
        "from sklearn.model_selection import train_test_split\n",
        "from sklearn.preprocessing import StandardScaler\n",
        "import pandas as pd\n",
        "import numpy as np\n",
        "from keras import Model\n",
        "from keras import layers\n",
        "\n",
        "#  Import and read the attrition data\n",
        "attrition_df = pd.read_csv('https://static.bc-edx.com/ai/ail-v-1-0/m19/lms/datasets/attrition.csv')\n",
        "attrition_df.head()"
      ]
    },
    {
      "cell_type": "code",
      "execution_count": 2,
      "metadata": {
        "colab": {
          "base_uri": "https://localhost:8080/"
        },
        "id": "g22aQSY4Gc3Q",
        "outputId": "1f5c13c1-b981-4e40-a7ed-dd3fe6f1b81e"
      },
      "outputs": [
        {
          "data": {
            "text/plain": [
              "Age                         43\n",
              "Attrition                    2\n",
              "BusinessTravel               3\n",
              "Department                   3\n",
              "DistanceFromHome            29\n",
              "Education                    5\n",
              "EducationField               6\n",
              "EnvironmentSatisfaction      4\n",
              "HourlyRate                  71\n",
              "JobInvolvement               4\n",
              "JobLevel                     5\n",
              "JobRole                      9\n",
              "JobSatisfaction              4\n",
              "MaritalStatus                3\n",
              "NumCompaniesWorked          10\n",
              "OverTime                     2\n",
              "PercentSalaryHike           15\n",
              "PerformanceRating            2\n",
              "RelationshipSatisfaction     4\n",
              "StockOptionLevel             4\n",
              "TotalWorkingYears           40\n",
              "TrainingTimesLastYear        7\n",
              "WorkLifeBalance              4\n",
              "YearsAtCompany              37\n",
              "YearsInCurrentRole          19\n",
              "YearsSinceLastPromotion     16\n",
              "YearsWithCurrManager        18\n",
              "dtype: int64"
            ]
          },
          "execution_count": 2,
          "metadata": {},
          "output_type": "execute_result"
        }
      ],
      "source": [
        "# Determine the number of unique values in each column.\n",
        "attrition_df.nunique()"
      ]
    },
    {
      "cell_type": "code",
      "execution_count": 3,
      "metadata": {
        "id": "50vMgBEnJbfM"
      },
      "outputs": [],
      "source": [
        "# Create y_df with the Attrition and Department columns\n",
        "y_df = attrition_df[['Attrition', 'Department']]\n"
      ]
    },
    {
      "cell_type": "code",
      "execution_count": 5,
      "metadata": {
        "colab": {
          "base_uri": "https://localhost:8080/"
        },
        "id": "Virka0zLGc3R",
        "outputId": "dd5aee3a-9458-4ba6-e857-1b234de40915"
      },
      "outputs": [
        {
          "name": "stdout",
          "output_type": "stream",
          "text": [
            "<class 'pandas.core.frame.DataFrame'>\n",
            "RangeIndex: 1470 entries, 0 to 1469\n",
            "Data columns (total 10 columns):\n",
            " #   Column                   Non-Null Count  Dtype \n",
            "---  ------                   --------------  ----- \n",
            " 0   Age                      1470 non-null   int64 \n",
            " 1   Education                1470 non-null   int64 \n",
            " 2   DistanceFromHome         1470 non-null   int64 \n",
            " 3   JobSatisfaction          1470 non-null   int64 \n",
            " 4   OverTime                 1470 non-null   object\n",
            " 5   StockOptionLevel         1470 non-null   int64 \n",
            " 6   WorkLifeBalance          1470 non-null   int64 \n",
            " 7   YearsAtCompany           1470 non-null   int64 \n",
            " 8   YearsSinceLastPromotion  1470 non-null   int64 \n",
            " 9   NumCompaniesWorked       1470 non-null   int64 \n",
            "dtypes: int64(9), object(1)\n",
            "memory usage: 115.0+ KB\n"
          ]
        }
      ],
      "source": [
        "# Create a list of at least 10 column names to use as X data\n",
        "selected_columns = ['Age', 'Education', 'DistanceFromHome', 'JobSatisfaction', 'OverTime', 'StockOptionLevel', 'WorkLifeBalance', 'YearsAtCompany', 'YearsSinceLastPromotion', 'NumCompaniesWorked']\n",
        "\n",
        "\n",
        "# Create X_df using your selected columns\n",
        "X_df = attrition_df[selected_columns]\n",
        "\n",
        "# Show the data types for X_df\n",
        "\n",
        "X_df.info()"
      ]
    },
    {
      "cell_type": "code",
      "execution_count": 7,
      "metadata": {
        "id": "KaJfdOGUMHMR"
      },
      "outputs": [],
      "source": [
        "# Split the data into training and testing sets\n",
        "from sklearn.model_selection import train_test_split\n",
        "X_train, X_test, y_train, y_test = train_test_split(X_df, y_df, random_state=42)\n"
      ]
    },
    {
      "cell_type": "code",
      "execution_count": 8,
      "metadata": {},
      "outputs": [
        {
          "data": {
            "text/html": [
              "<div>\n",
              "<style scoped>\n",
              "    .dataframe tbody tr th:only-of-type {\n",
              "        vertical-align: middle;\n",
              "    }\n",
              "\n",
              "    .dataframe tbody tr th {\n",
              "        vertical-align: top;\n",
              "    }\n",
              "\n",
              "    .dataframe thead th {\n",
              "        text-align: right;\n",
              "    }\n",
              "</style>\n",
              "<table border=\"1\" class=\"dataframe\">\n",
              "  <thead>\n",
              "    <tr style=\"text-align: right;\">\n",
              "      <th></th>\n",
              "      <th>Age</th>\n",
              "      <th>Education</th>\n",
              "      <th>DistanceFromHome</th>\n",
              "      <th>JobSatisfaction</th>\n",
              "      <th>OverTime</th>\n",
              "      <th>StockOptionLevel</th>\n",
              "      <th>WorkLifeBalance</th>\n",
              "      <th>YearsAtCompany</th>\n",
              "      <th>YearsSinceLastPromotion</th>\n",
              "      <th>NumCompaniesWorked</th>\n",
              "    </tr>\n",
              "  </thead>\n",
              "  <tbody>\n",
              "    <tr>\n",
              "      <th>1343</th>\n",
              "      <td>29</td>\n",
              "      <td>3</td>\n",
              "      <td>7</td>\n",
              "      <td>1</td>\n",
              "      <td>No</td>\n",
              "      <td>0</td>\n",
              "      <td>3</td>\n",
              "      <td>3</td>\n",
              "      <td>1</td>\n",
              "      <td>3</td>\n",
              "    </tr>\n",
              "    <tr>\n",
              "      <th>1121</th>\n",
              "      <td>36</td>\n",
              "      <td>4</td>\n",
              "      <td>1</td>\n",
              "      <td>3</td>\n",
              "      <td>No</td>\n",
              "      <td>0</td>\n",
              "      <td>3</td>\n",
              "      <td>1</td>\n",
              "      <td>0</td>\n",
              "      <td>6</td>\n",
              "    </tr>\n",
              "    <tr>\n",
              "      <th>1048</th>\n",
              "      <td>34</td>\n",
              "      <td>3</td>\n",
              "      <td>3</td>\n",
              "      <td>1</td>\n",
              "      <td>No</td>\n",
              "      <td>0</td>\n",
              "      <td>3</td>\n",
              "      <td>13</td>\n",
              "      <td>3</td>\n",
              "      <td>3</td>\n",
              "    </tr>\n",
              "    <tr>\n",
              "      <th>1393</th>\n",
              "      <td>27</td>\n",
              "      <td>3</td>\n",
              "      <td>9</td>\n",
              "      <td>4</td>\n",
              "      <td>No</td>\n",
              "      <td>0</td>\n",
              "      <td>3</td>\n",
              "      <td>7</td>\n",
              "      <td>0</td>\n",
              "      <td>1</td>\n",
              "    </tr>\n",
              "    <tr>\n",
              "      <th>527</th>\n",
              "      <td>32</td>\n",
              "      <td>3</td>\n",
              "      <td>10</td>\n",
              "      <td>4</td>\n",
              "      <td>No</td>\n",
              "      <td>0</td>\n",
              "      <td>2</td>\n",
              "      <td>10</td>\n",
              "      <td>0</td>\n",
              "      <td>1</td>\n",
              "    </tr>\n",
              "  </tbody>\n",
              "</table>\n",
              "</div>"
            ],
            "text/plain": [
              "      Age  Education  DistanceFromHome  JobSatisfaction OverTime  \\\n",
              "1343   29          3                 7                1       No   \n",
              "1121   36          4                 1                3       No   \n",
              "1048   34          3                 3                1       No   \n",
              "1393   27          3                 9                4       No   \n",
              "527    32          3                10                4       No   \n",
              "\n",
              "      StockOptionLevel  WorkLifeBalance  YearsAtCompany  \\\n",
              "1343                 0                3               3   \n",
              "1121                 0                3               1   \n",
              "1048                 0                3              13   \n",
              "1393                 0                3               7   \n",
              "527                  0                2              10   \n",
              "\n",
              "      YearsSinceLastPromotion  NumCompaniesWorked  \n",
              "1343                        1                   3  \n",
              "1121                        0                   6  \n",
              "1048                        3                   3  \n",
              "1393                        0                   1  \n",
              "527                         0                   1  "
            ]
          },
          "execution_count": 8,
          "metadata": {},
          "output_type": "execute_result"
        }
      ],
      "source": [
        "X_train.head()"
      ]
    },
    {
      "cell_type": "code",
      "execution_count": 9,
      "metadata": {
        "colab": {
          "base_uri": "https://localhost:8080/"
        },
        "id": "NYubUJqiLCSp",
        "outputId": "53f31721-571c-4c94-d13e-25a715749593"
      },
      "outputs": [],
      "source": [
        "# Convert your X data to numeric data types however you see fit\n",
        "# Add new code cells as necessary\n",
        "X_train['OverTime'] = X_train['OverTime'].map({'Yes': 1, 'No': 0})\n",
        "X_test['OverTime'] = X_test['OverTime'].map({'Yes': 1, 'No': 0})\n"
      ]
    },
    {
      "cell_type": "code",
      "execution_count": 10,
      "metadata": {
        "id": "EWA-aIA5Gc3T"
      },
      "outputs": [],
      "source": [
        "# Create a StandardScaler\n",
        "scaler = StandardScaler()\n",
        "\n",
        "# Fit the StandardScaler to the training data\n",
        "X_train_scaled = scaler.fit_transform(X_train)\n",
        "\n",
        "# Scale the training and testing data\n",
        "X_test_scaled = scaler.fit_transform(X_test)\n"
      ]
    },
    {
      "cell_type": "code",
      "execution_count": 19,
      "metadata": {
        "colab": {
          "base_uri": "https://localhost:8080/"
        },
        "id": "-z0Mky8vQSz4",
        "outputId": "debefc85-c20b-48f5-f4d9-91eadd65d36a"
      },
      "outputs": [
        {
          "data": {
            "text/plain": [
              "array([[0., 1., 0.],\n",
              "       [0., 0., 1.],\n",
              "       [0., 0., 1.],\n",
              "       ...,\n",
              "       [0., 1., 0.],\n",
              "       [0., 1., 0.],\n",
              "       [0., 0., 1.]])"
            ]
          },
          "execution_count": 19,
          "metadata": {},
          "output_type": "execute_result"
        }
      ],
      "source": [
        "# Create a OneHotEncoder for the Department column\n",
        "from sklearn.preprocessing import OneHotEncoder\n",
        "\n",
        "encoder = OneHotEncoder(sparse_output=False)\n",
        "\n",
        "# Fit the encoder to the training data\n",
        "dept_train_encoded = encoder.fit_transform(y_train['Department'].values.reshape(-1, 1))\n",
        "\n",
        "# Create two new variables by applying the encoder\n",
        "# to the training and testing data\n",
        "dept_test_encoded = encoder.transform(y_test['Department'].values.reshape(-1, 1))\n",
        "\n",
        "dept_train_encoded\n",
        "\n"
      ]
    },
    {
      "cell_type": "code",
      "execution_count": 20,
      "metadata": {
        "colab": {
          "base_uri": "https://localhost:8080/"
        },
        "id": "-G4DSpvFRrk4",
        "outputId": "9842e948-8a55-4b80-8fac-f96714e85589"
      },
      "outputs": [
        {
          "data": {
            "text/plain": [
              "array([[1., 0.],\n",
              "       [1., 0.],\n",
              "       [1., 0.],\n",
              "       ...,\n",
              "       [0., 1.],\n",
              "       [1., 0.],\n",
              "       [1., 0.]])"
            ]
          },
          "execution_count": 20,
          "metadata": {},
          "output_type": "execute_result"
        }
      ],
      "source": [
        "# Create a OneHotEncoder for the Attrition column\n",
        "from sklearn.preprocessing import OneHotEncoder\n",
        "\n",
        "encoder = OneHotEncoder(sparse_output=False)\n",
        "\n",
        "# Fit the encoder to the training data\n",
        "attr_train_encoded = encoder.fit_transform(y_train['Attrition'].values.reshape(-1, 1))\n",
        "\n",
        "# Create two new variables by applying the encoder\n",
        "# to the training and testing data\n",
        "attr_test_encoded = encoder.transform(y_test['Attrition'].values.reshape(-1, 1))\n",
        "\n",
        "attr_train_encoded"
      ]
    },
    {
      "cell_type": "markdown",
      "metadata": {
        "id": "ykNmu_WWGc3T"
      },
      "source": [
        "## Create, Compile, and Train the Model"
      ]
    },
    {
      "cell_type": "code",
      "execution_count": 21,
      "metadata": {
        "id": "WUptZqmSGc3T"
      },
      "outputs": [],
      "source": [
        "# Find the number of columns in the X training data\n",
        "num_columns = X_train_scaled.shape[1]\n",
        "\n",
        "# Create the input layer\n",
        "inputs = layers.Input(shape=(num_columns,))\n",
        "\n",
        "# Create at least two shared layers\n",
        "x = layers.Dense(64, activation='relu', name='shared1')(inputs)\n",
        "x = layers.Dense(128, activation='relu', name='shared2')(x)"
      ]
    },
    {
      "cell_type": "code",
      "execution_count": 22,
      "metadata": {
        "id": "JukjTm2yTEqd"
      },
      "outputs": [],
      "source": [
        "# Create a branch for Department\n",
        "# with a hidden layer and an output layer\n",
        "\n",
        "# Create the hidden layer\n",
        "dept_hidden = layers.Dense(32, activation='relu', name='department_hidded')(x)\n",
        "\n",
        "# Create the output layer\n",
        "dept_output = layers.Dense(3, activation='softmax', name='department_output')(dept_hidden)\n"
      ]
    },
    {
      "cell_type": "code",
      "execution_count": 23,
      "metadata": {
        "id": "9OqhUiOJUBkR"
      },
      "outputs": [],
      "source": [
        "# Create a branch for Attrition\n",
        "# with a hidden layer and an output layer\n",
        "\n",
        "# Create the hidden layer\n",
        "attr_hidden = layers.Dense(16, activation='relu', name='attrition_hidden')(x)\n",
        "\n",
        "# Create the output layer\n",
        "attr_output = layers.Dense(attr_train_encoded.shape[1], activation='sigmoid', name='attrition_output')(attr_hidden)\n"
      ]
    },
    {
      "cell_type": "code",
      "execution_count": 24,
      "metadata": {
        "colab": {
          "base_uri": "https://localhost:8080/"
        },
        "id": "twmuejdxGc3T",
        "outputId": "25096308-b68b-42e4-e4ea-ae82e97c435a"
      },
      "outputs": [
        {
          "name": "stderr",
          "output_type": "stream",
          "text": [
            "WARNING:absl:At this time, the v2.11+ optimizer `tf.keras.optimizers.Adam` runs slowly on M1/M2 Macs, please use the legacy Keras optimizer instead, located at `tf.keras.optimizers.legacy.Adam`.\n"
          ]
        },
        {
          "name": "stdout",
          "output_type": "stream",
          "text": [
            "Model: \"model_1\"\n",
            "__________________________________________________________________________________________________\n",
            " Layer (type)                Output Shape                 Param #   Connected to                  \n",
            "==================================================================================================\n",
            " input_2 (InputLayer)        [(None, 10)]                 0         []                            \n",
            "                                                                                                  \n",
            " shared1 (Dense)             (None, 64)                   704       ['input_2[0][0]']             \n",
            "                                                                                                  \n",
            " shared2 (Dense)             (None, 128)                  8320      ['shared1[0][0]']             \n",
            "                                                                                                  \n",
            " department_hidded (Dense)   (None, 32)                   4128      ['shared2[0][0]']             \n",
            "                                                                                                  \n",
            " attrition_hidden (Dense)    (None, 16)                   2064      ['shared2[0][0]']             \n",
            "                                                                                                  \n",
            " department_output (Dense)   (None, 3)                    99        ['department_hidded[0][0]']   \n",
            "                                                                                                  \n",
            " attrition_output (Dense)    (None, 2)                    34        ['attrition_hidden[0][0]']    \n",
            "                                                                                                  \n",
            "==================================================================================================\n",
            "Total params: 15349 (59.96 KB)\n",
            "Trainable params: 15349 (59.96 KB)\n",
            "Non-trainable params: 0 (0.00 Byte)\n",
            "__________________________________________________________________________________________________\n"
          ]
        }
      ],
      "source": [
        "from keras import optimizers\n",
        "# Create the model\n",
        "model = Model(inputs, outputs=[dept_output, attr_output])\n",
        "\n",
        "# Compile the model\n",
        "model.compile(optimizer=optimizers.Adam(learning_rate=0.001), loss={'department_output': 'categorical_crossentropy', 'attrition_output': 'binary_crossentropy'}, metrics={'department_output': 'accuracy', 'attrition_output': 'accuracy'})\n",
        "\n",
        "\n",
        "# Summarize the model\n",
        "model.summary()"
      ]
    },
    {
      "cell_type": "code",
      "execution_count": 25,
      "metadata": {
        "colab": {
          "base_uri": "https://localhost:8080/"
        },
        "id": "c8oGy0dpGc3U",
        "outputId": "cc667d43-28cf-42d4-d719-c2bc02888d30"
      },
      "outputs": [
        {
          "name": "stdout",
          "output_type": "stream",
          "text": [
            "Epoch 1/100\n",
            "28/28 [==============================] - 1s 6ms/step - loss: 1.4458 - department_output_loss: 0.8470 - attrition_output_loss: 0.5989 - department_output_accuracy: 0.6595 - attrition_output_accuracy: 0.7344 - val_loss: 1.3618 - val_department_output_loss: 0.8382 - val_attrition_output_loss: 0.5236 - val_department_output_accuracy: 0.6063 - val_attrition_output_accuracy: 0.7873\n",
            "Epoch 2/100\n",
            "28/28 [==============================] - 0s 2ms/step - loss: 1.2139 - department_output_loss: 0.7688 - attrition_output_loss: 0.4451 - department_output_accuracy: 0.6663 - attrition_output_accuracy: 0.8388 - val_loss: 1.3555 - val_department_output_loss: 0.8426 - val_attrition_output_loss: 0.5128 - val_department_output_accuracy: 0.6063 - val_attrition_output_accuracy: 0.7873\n",
            "Epoch 3/100\n",
            "28/28 [==============================] - 0s 2ms/step - loss: 1.1706 - department_output_loss: 0.7505 - attrition_output_loss: 0.4201 - department_output_accuracy: 0.6663 - attrition_output_accuracy: 0.8388 - val_loss: 1.3148 - val_department_output_loss: 0.8345 - val_attrition_output_loss: 0.4803 - val_department_output_accuracy: 0.6063 - val_attrition_output_accuracy: 0.7873\n",
            "Epoch 4/100\n",
            "28/28 [==============================] - 0s 2ms/step - loss: 1.1396 - department_output_loss: 0.7376 - attrition_output_loss: 0.4020 - department_output_accuracy: 0.6652 - attrition_output_accuracy: 0.8388 - val_loss: 1.3085 - val_department_output_loss: 0.8387 - val_attrition_output_loss: 0.4698 - val_department_output_accuracy: 0.6063 - val_attrition_output_accuracy: 0.7873\n",
            "Epoch 5/100\n",
            "28/28 [==============================] - 0s 2ms/step - loss: 1.1177 - department_output_loss: 0.7266 - attrition_output_loss: 0.3911 - department_output_accuracy: 0.6663 - attrition_output_accuracy: 0.8400 - val_loss: 1.3133 - val_department_output_loss: 0.8577 - val_attrition_output_loss: 0.4555 - val_department_output_accuracy: 0.6063 - val_attrition_output_accuracy: 0.7964\n",
            "Epoch 6/100\n",
            "28/28 [==============================] - 0s 2ms/step - loss: 1.0947 - department_output_loss: 0.7130 - attrition_output_loss: 0.3817 - department_output_accuracy: 0.6674 - attrition_output_accuracy: 0.8502 - val_loss: 1.3406 - val_department_output_loss: 0.8862 - val_attrition_output_loss: 0.4543 - val_department_output_accuracy: 0.6063 - val_attrition_output_accuracy: 0.7919\n",
            "Epoch 7/100\n",
            "28/28 [==============================] - 0s 2ms/step - loss: 1.0815 - department_output_loss: 0.7045 - attrition_output_loss: 0.3770 - department_output_accuracy: 0.6720 - attrition_output_accuracy: 0.8536 - val_loss: 1.2965 - val_department_output_loss: 0.8536 - val_attrition_output_loss: 0.4429 - val_department_output_accuracy: 0.5973 - val_attrition_output_accuracy: 0.8009\n",
            "Epoch 8/100\n",
            "28/28 [==============================] - 0s 2ms/step - loss: 1.0604 - department_output_loss: 0.6903 - attrition_output_loss: 0.3701 - department_output_accuracy: 0.6754 - attrition_output_accuracy: 0.8547 - val_loss: 1.3178 - val_department_output_loss: 0.8721 - val_attrition_output_loss: 0.4457 - val_department_output_accuracy: 0.6018 - val_attrition_output_accuracy: 0.8009\n",
            "Epoch 9/100\n",
            "28/28 [==============================] - 0s 2ms/step - loss: 1.0513 - department_output_loss: 0.6848 - attrition_output_loss: 0.3664 - department_output_accuracy: 0.6833 - attrition_output_accuracy: 0.8570 - val_loss: 1.3071 - val_department_output_loss: 0.8663 - val_attrition_output_loss: 0.4408 - val_department_output_accuracy: 0.5928 - val_attrition_output_accuracy: 0.8145\n",
            "Epoch 10/100\n",
            "28/28 [==============================] - 0s 2ms/step - loss: 1.0315 - department_output_loss: 0.6715 - attrition_output_loss: 0.3600 - department_output_accuracy: 0.6913 - attrition_output_accuracy: 0.8502 - val_loss: 1.3099 - val_department_output_loss: 0.8697 - val_attrition_output_loss: 0.4402 - val_department_output_accuracy: 0.5385 - val_attrition_output_accuracy: 0.8145\n",
            "Epoch 11/100\n",
            "28/28 [==============================] - 0s 2ms/step - loss: 1.0132 - department_output_loss: 0.6597 - attrition_output_loss: 0.3535 - department_output_accuracy: 0.7060 - attrition_output_accuracy: 0.8536 - val_loss: 1.3202 - val_department_output_loss: 0.8817 - val_attrition_output_loss: 0.4385 - val_department_output_accuracy: 0.5520 - val_attrition_output_accuracy: 0.8145\n",
            "Epoch 12/100\n",
            "28/28 [==============================] - 0s 2ms/step - loss: 0.9958 - department_output_loss: 0.6483 - attrition_output_loss: 0.3475 - department_output_accuracy: 0.6992 - attrition_output_accuracy: 0.8604 - val_loss: 1.3361 - val_department_output_loss: 0.9037 - val_attrition_output_loss: 0.4324 - val_department_output_accuracy: 0.5747 - val_attrition_output_accuracy: 0.8371\n",
            "Epoch 13/100\n",
            "28/28 [==============================] - 0s 2ms/step - loss: 0.9771 - department_output_loss: 0.6354 - attrition_output_loss: 0.3417 - department_output_accuracy: 0.7072 - attrition_output_accuracy: 0.8593 - val_loss: 1.3444 - val_department_output_loss: 0.9013 - val_attrition_output_loss: 0.4431 - val_department_output_accuracy: 0.5701 - val_attrition_output_accuracy: 0.8190\n",
            "Epoch 14/100\n",
            "28/28 [==============================] - 0s 3ms/step - loss: 0.9579 - department_output_loss: 0.6200 - attrition_output_loss: 0.3379 - department_output_accuracy: 0.7140 - attrition_output_accuracy: 0.8627 - val_loss: 1.3526 - val_department_output_loss: 0.9234 - val_attrition_output_loss: 0.4292 - val_department_output_accuracy: 0.5520 - val_attrition_output_accuracy: 0.8416\n",
            "Epoch 15/100\n",
            "28/28 [==============================] - 0s 2ms/step - loss: 0.9406 - department_output_loss: 0.6081 - attrition_output_loss: 0.3325 - department_output_accuracy: 0.7378 - attrition_output_accuracy: 0.8649 - val_loss: 1.3476 - val_department_output_loss: 0.9163 - val_attrition_output_loss: 0.4312 - val_department_output_accuracy: 0.5385 - val_attrition_output_accuracy: 0.8326\n",
            "Epoch 16/100\n",
            "28/28 [==============================] - 0s 2ms/step - loss: 0.9211 - department_output_loss: 0.5957 - attrition_output_loss: 0.3253 - department_output_accuracy: 0.7469 - attrition_output_accuracy: 0.8751 - val_loss: 1.3938 - val_department_output_loss: 0.9536 - val_attrition_output_loss: 0.4402 - val_department_output_accuracy: 0.5339 - val_attrition_output_accuracy: 0.8326\n",
            "Epoch 17/100\n",
            "28/28 [==============================] - 0s 2ms/step - loss: 0.9032 - department_output_loss: 0.5848 - attrition_output_loss: 0.3184 - department_output_accuracy: 0.7321 - attrition_output_accuracy: 0.8751 - val_loss: 1.4140 - val_department_output_loss: 0.9777 - val_attrition_output_loss: 0.4363 - val_department_output_accuracy: 0.5430 - val_attrition_output_accuracy: 0.8371\n",
            "Epoch 18/100\n",
            "28/28 [==============================] - 0s 2ms/step - loss: 0.8895 - department_output_loss: 0.5719 - attrition_output_loss: 0.3177 - department_output_accuracy: 0.7491 - attrition_output_accuracy: 0.8751 - val_loss: 1.4376 - val_department_output_loss: 1.0039 - val_attrition_output_loss: 0.4337 - val_department_output_accuracy: 0.5520 - val_attrition_output_accuracy: 0.8371\n",
            "Epoch 19/100\n",
            "28/28 [==============================] - 0s 2ms/step - loss: 0.8754 - department_output_loss: 0.5609 - attrition_output_loss: 0.3146 - department_output_accuracy: 0.7548 - attrition_output_accuracy: 0.8797 - val_loss: 1.4189 - val_department_output_loss: 0.9696 - val_attrition_output_loss: 0.4493 - val_department_output_accuracy: 0.5158 - val_attrition_output_accuracy: 0.8281\n",
            "Epoch 20/100\n",
            "28/28 [==============================] - 0s 2ms/step - loss: 0.8508 - department_output_loss: 0.5439 - attrition_output_loss: 0.3069 - department_output_accuracy: 0.7741 - attrition_output_accuracy: 0.8797 - val_loss: 1.4707 - val_department_output_loss: 1.0194 - val_attrition_output_loss: 0.4513 - val_department_output_accuracy: 0.5249 - val_attrition_output_accuracy: 0.8326\n",
            "Epoch 21/100\n",
            "28/28 [==============================] - 0s 2ms/step - loss: 0.8255 - department_output_loss: 0.5253 - attrition_output_loss: 0.3002 - department_output_accuracy: 0.7775 - attrition_output_accuracy: 0.8831 - val_loss: 1.4548 - val_department_output_loss: 1.0135 - val_attrition_output_loss: 0.4413 - val_department_output_accuracy: 0.4977 - val_attrition_output_accuracy: 0.8326\n",
            "Epoch 22/100\n",
            "28/28 [==============================] - 0s 2ms/step - loss: 0.8064 - department_output_loss: 0.5075 - attrition_output_loss: 0.2989 - department_output_accuracy: 0.7911 - attrition_output_accuracy: 0.8774 - val_loss: 1.5078 - val_department_output_loss: 1.0703 - val_attrition_output_loss: 0.4374 - val_department_output_accuracy: 0.5294 - val_attrition_output_accuracy: 0.8235\n",
            "Epoch 23/100\n",
            "28/28 [==============================] - 0s 2ms/step - loss: 0.7963 - department_output_loss: 0.5030 - attrition_output_loss: 0.2933 - department_output_accuracy: 0.7946 - attrition_output_accuracy: 0.8820 - val_loss: 1.4539 - val_department_output_loss: 1.0150 - val_attrition_output_loss: 0.4389 - val_department_output_accuracy: 0.5611 - val_attrition_output_accuracy: 0.8326\n",
            "Epoch 24/100\n",
            "28/28 [==============================] - 0s 2ms/step - loss: 0.7683 - department_output_loss: 0.4731 - attrition_output_loss: 0.2952 - department_output_accuracy: 0.8229 - attrition_output_accuracy: 0.8831 - val_loss: 1.5007 - val_department_output_loss: 1.0599 - val_attrition_output_loss: 0.4407 - val_department_output_accuracy: 0.4932 - val_attrition_output_accuracy: 0.8371\n",
            "Epoch 25/100\n",
            "28/28 [==============================] - 0s 2ms/step - loss: 0.7593 - department_output_loss: 0.4729 - attrition_output_loss: 0.2864 - department_output_accuracy: 0.8116 - attrition_output_accuracy: 0.8876 - val_loss: 1.5558 - val_department_output_loss: 1.0964 - val_attrition_output_loss: 0.4594 - val_department_output_accuracy: 0.4932 - val_attrition_output_accuracy: 0.8371\n",
            "Epoch 26/100\n",
            "28/28 [==============================] - 0s 2ms/step - loss: 0.7418 - department_output_loss: 0.4574 - attrition_output_loss: 0.2844 - department_output_accuracy: 0.8173 - attrition_output_accuracy: 0.8888 - val_loss: 1.5767 - val_department_output_loss: 1.1129 - val_attrition_output_loss: 0.4638 - val_department_output_accuracy: 0.5204 - val_attrition_output_accuracy: 0.8281\n",
            "Epoch 27/100\n",
            "28/28 [==============================] - 0s 2ms/step - loss: 0.7108 - department_output_loss: 0.4343 - attrition_output_loss: 0.2765 - department_output_accuracy: 0.8524 - attrition_output_accuracy: 0.8922 - val_loss: 1.7038 - val_department_output_loss: 1.2136 - val_attrition_output_loss: 0.4901 - val_department_output_accuracy: 0.5339 - val_attrition_output_accuracy: 0.8190\n",
            "Epoch 28/100\n",
            "28/28 [==============================] - 0s 2ms/step - loss: 0.7253 - department_output_loss: 0.4445 - attrition_output_loss: 0.2808 - department_output_accuracy: 0.8275 - attrition_output_accuracy: 0.8876 - val_loss: 1.6314 - val_department_output_loss: 1.1537 - val_attrition_output_loss: 0.4777 - val_department_output_accuracy: 0.5068 - val_attrition_output_accuracy: 0.8281\n",
            "Epoch 29/100\n",
            "28/28 [==============================] - 0s 2ms/step - loss: 0.6864 - department_output_loss: 0.4150 - attrition_output_loss: 0.2714 - department_output_accuracy: 0.8297 - attrition_output_accuracy: 0.8899 - val_loss: 1.6510 - val_department_output_loss: 1.1802 - val_attrition_output_loss: 0.4708 - val_department_output_accuracy: 0.4977 - val_attrition_output_accuracy: 0.8326\n",
            "Epoch 30/100\n",
            "28/28 [==============================] - 0s 2ms/step - loss: 0.6555 - department_output_loss: 0.3881 - attrition_output_loss: 0.2674 - department_output_accuracy: 0.8536 - attrition_output_accuracy: 0.8922 - val_loss: 1.7129 - val_department_output_loss: 1.2496 - val_attrition_output_loss: 0.4633 - val_department_output_accuracy: 0.5385 - val_attrition_output_accuracy: 0.8281\n",
            "Epoch 31/100\n",
            "28/28 [==============================] - 0s 2ms/step - loss: 0.6467 - department_output_loss: 0.3832 - attrition_output_loss: 0.2635 - department_output_accuracy: 0.8638 - attrition_output_accuracy: 0.8944 - val_loss: 1.7428 - val_department_output_loss: 1.2564 - val_attrition_output_loss: 0.4864 - val_department_output_accuracy: 0.5385 - val_attrition_output_accuracy: 0.8235\n",
            "Epoch 32/100\n",
            "28/28 [==============================] - 0s 2ms/step - loss: 0.6207 - department_output_loss: 0.3599 - attrition_output_loss: 0.2608 - department_output_accuracy: 0.8661 - attrition_output_accuracy: 0.8967 - val_loss: 1.7285 - val_department_output_loss: 1.2438 - val_attrition_output_loss: 0.4847 - val_department_output_accuracy: 0.5204 - val_attrition_output_accuracy: 0.8190\n",
            "Epoch 33/100\n",
            "28/28 [==============================] - 0s 2ms/step - loss: 0.5938 - department_output_loss: 0.3374 - attrition_output_loss: 0.2564 - department_output_accuracy: 0.8854 - attrition_output_accuracy: 0.8910 - val_loss: 1.7821 - val_department_output_loss: 1.2834 - val_attrition_output_loss: 0.4988 - val_department_output_accuracy: 0.4977 - val_attrition_output_accuracy: 0.8190\n",
            "Epoch 34/100\n",
            "28/28 [==============================] - 0s 2ms/step - loss: 0.5879 - department_output_loss: 0.3361 - attrition_output_loss: 0.2518 - department_output_accuracy: 0.8808 - attrition_output_accuracy: 0.9024 - val_loss: 1.7815 - val_department_output_loss: 1.2968 - val_attrition_output_loss: 0.4847 - val_department_output_accuracy: 0.5249 - val_attrition_output_accuracy: 0.8371\n",
            "Epoch 35/100\n",
            "28/28 [==============================] - 0s 2ms/step - loss: 0.5666 - department_output_loss: 0.3170 - attrition_output_loss: 0.2495 - department_output_accuracy: 0.8922 - attrition_output_accuracy: 0.9069 - val_loss: 1.8677 - val_department_output_loss: 1.3612 - val_attrition_output_loss: 0.5066 - val_department_output_accuracy: 0.5204 - val_attrition_output_accuracy: 0.8281\n",
            "Epoch 36/100\n",
            "28/28 [==============================] - 0s 3ms/step - loss: 0.5526 - department_output_loss: 0.3044 - attrition_output_loss: 0.2481 - department_output_accuracy: 0.8956 - attrition_output_accuracy: 0.9012 - val_loss: 1.8928 - val_department_output_loss: 1.3907 - val_attrition_output_loss: 0.5021 - val_department_output_accuracy: 0.4796 - val_attrition_output_accuracy: 0.8145\n",
            "Epoch 37/100\n",
            "28/28 [==============================] - 0s 2ms/step - loss: 0.5384 - department_output_loss: 0.2976 - attrition_output_loss: 0.2408 - department_output_accuracy: 0.9024 - attrition_output_accuracy: 0.9012 - val_loss: 1.9398 - val_department_output_loss: 1.4165 - val_attrition_output_loss: 0.5233 - val_department_output_accuracy: 0.4887 - val_attrition_output_accuracy: 0.8145\n",
            "Epoch 38/100\n",
            "28/28 [==============================] - 0s 2ms/step - loss: 0.5268 - department_output_loss: 0.2874 - attrition_output_loss: 0.2394 - department_output_accuracy: 0.9012 - attrition_output_accuracy: 0.9035 - val_loss: 1.8772 - val_department_output_loss: 1.3987 - val_attrition_output_loss: 0.4785 - val_department_output_accuracy: 0.4887 - val_attrition_output_accuracy: 0.8281\n",
            "Epoch 39/100\n",
            "28/28 [==============================] - 0s 2ms/step - loss: 0.5066 - department_output_loss: 0.2673 - attrition_output_loss: 0.2393 - department_output_accuracy: 0.9081 - attrition_output_accuracy: 0.9047 - val_loss: 1.9073 - val_department_output_loss: 1.4169 - val_attrition_output_loss: 0.4904 - val_department_output_accuracy: 0.4706 - val_attrition_output_accuracy: 0.8326\n",
            "Epoch 40/100\n",
            "28/28 [==============================] - 0s 2ms/step - loss: 0.4944 - department_output_loss: 0.2592 - attrition_output_loss: 0.2352 - department_output_accuracy: 0.9149 - attrition_output_accuracy: 0.9024 - val_loss: 1.9927 - val_department_output_loss: 1.4934 - val_attrition_output_loss: 0.4993 - val_department_output_accuracy: 0.4796 - val_attrition_output_accuracy: 0.8326\n",
            "Epoch 41/100\n",
            "28/28 [==============================] - 0s 2ms/step - loss: 0.4793 - department_output_loss: 0.2496 - attrition_output_loss: 0.2297 - department_output_accuracy: 0.9171 - attrition_output_accuracy: 0.9024 - val_loss: 2.0172 - val_department_output_loss: 1.5059 - val_attrition_output_loss: 0.5113 - val_department_output_accuracy: 0.4977 - val_attrition_output_accuracy: 0.8235\n",
            "Epoch 42/100\n",
            "28/28 [==============================] - 0s 2ms/step - loss: 0.4609 - department_output_loss: 0.2371 - attrition_output_loss: 0.2238 - department_output_accuracy: 0.9262 - attrition_output_accuracy: 0.9194 - val_loss: 2.0502 - val_department_output_loss: 1.5454 - val_attrition_output_loss: 0.5048 - val_department_output_accuracy: 0.4887 - val_attrition_output_accuracy: 0.8281\n",
            "Epoch 43/100\n",
            "28/28 [==============================] - 0s 2ms/step - loss: 0.4511 - department_output_loss: 0.2332 - attrition_output_loss: 0.2179 - department_output_accuracy: 0.9262 - attrition_output_accuracy: 0.9194 - val_loss: 2.2051 - val_department_output_loss: 1.6647 - val_attrition_output_loss: 0.5404 - val_department_output_accuracy: 0.5113 - val_attrition_output_accuracy: 0.8145\n",
            "Epoch 44/100\n",
            "28/28 [==============================] - 0s 2ms/step - loss: 0.4336 - department_output_loss: 0.2129 - attrition_output_loss: 0.2207 - department_output_accuracy: 0.9251 - attrition_output_accuracy: 0.9103 - val_loss: 2.2074 - val_department_output_loss: 1.6593 - val_attrition_output_loss: 0.5480 - val_department_output_accuracy: 0.4842 - val_attrition_output_accuracy: 0.8235\n",
            "Epoch 45/100\n",
            "28/28 [==============================] - 0s 2ms/step - loss: 0.4181 - department_output_loss: 0.2046 - attrition_output_loss: 0.2135 - department_output_accuracy: 0.9432 - attrition_output_accuracy: 0.9183 - val_loss: 2.2157 - val_department_output_loss: 1.6957 - val_attrition_output_loss: 0.5200 - val_department_output_accuracy: 0.4977 - val_attrition_output_accuracy: 0.8281\n",
            "Epoch 46/100\n",
            "28/28 [==============================] - 0s 2ms/step - loss: 0.4130 - department_output_loss: 0.1972 - attrition_output_loss: 0.2158 - department_output_accuracy: 0.9376 - attrition_output_accuracy: 0.9183 - val_loss: 2.3521 - val_department_output_loss: 1.8423 - val_attrition_output_loss: 0.5098 - val_department_output_accuracy: 0.5023 - val_attrition_output_accuracy: 0.8371\n",
            "Epoch 47/100\n",
            "28/28 [==============================] - 0s 2ms/step - loss: 0.4118 - department_output_loss: 0.2047 - attrition_output_loss: 0.2071 - department_output_accuracy: 0.9262 - attrition_output_accuracy: 0.9183 - val_loss: 2.2618 - val_department_output_loss: 1.7494 - val_attrition_output_loss: 0.5124 - val_department_output_accuracy: 0.4796 - val_attrition_output_accuracy: 0.8326\n",
            "Epoch 48/100\n",
            "28/28 [==============================] - 0s 2ms/step - loss: 0.3831 - department_output_loss: 0.1801 - attrition_output_loss: 0.2029 - department_output_accuracy: 0.9523 - attrition_output_accuracy: 0.9194 - val_loss: 2.3138 - val_department_output_loss: 1.7823 - val_attrition_output_loss: 0.5315 - val_department_output_accuracy: 0.5068 - val_attrition_output_accuracy: 0.8326\n",
            "Epoch 49/100\n",
            "28/28 [==============================] - 0s 2ms/step - loss: 0.3693 - department_output_loss: 0.1705 - attrition_output_loss: 0.1987 - department_output_accuracy: 0.9489 - attrition_output_accuracy: 0.9171 - val_loss: 2.4289 - val_department_output_loss: 1.9173 - val_attrition_output_loss: 0.5117 - val_department_output_accuracy: 0.4842 - val_attrition_output_accuracy: 0.8190\n",
            "Epoch 50/100\n",
            "28/28 [==============================] - 0s 2ms/step - loss: 0.3599 - department_output_loss: 0.1651 - attrition_output_loss: 0.1948 - department_output_accuracy: 0.9478 - attrition_output_accuracy: 0.9251 - val_loss: 2.4512 - val_department_output_loss: 1.9127 - val_attrition_output_loss: 0.5384 - val_department_output_accuracy: 0.4977 - val_attrition_output_accuracy: 0.8235\n",
            "Epoch 51/100\n",
            "28/28 [==============================] - 0s 2ms/step - loss: 0.3339 - department_output_loss: 0.1434 - attrition_output_loss: 0.1905 - department_output_accuracy: 0.9694 - attrition_output_accuracy: 0.9330 - val_loss: 2.4573 - val_department_output_loss: 1.9295 - val_attrition_output_loss: 0.5278 - val_department_output_accuracy: 0.5158 - val_attrition_output_accuracy: 0.8190\n",
            "Epoch 52/100\n",
            "28/28 [==============================] - 0s 2ms/step - loss: 0.3338 - department_output_loss: 0.1474 - attrition_output_loss: 0.1864 - department_output_accuracy: 0.9569 - attrition_output_accuracy: 0.9308 - val_loss: 2.5827 - val_department_output_loss: 2.0080 - val_attrition_output_loss: 0.5746 - val_department_output_accuracy: 0.4977 - val_attrition_output_accuracy: 0.8281\n",
            "Epoch 53/100\n",
            "28/28 [==============================] - 0s 2ms/step - loss: 0.3181 - department_output_loss: 0.1334 - attrition_output_loss: 0.1847 - department_output_accuracy: 0.9728 - attrition_output_accuracy: 0.9330 - val_loss: 2.5374 - val_department_output_loss: 2.0079 - val_attrition_output_loss: 0.5295 - val_department_output_accuracy: 0.4751 - val_attrition_output_accuracy: 0.8145\n",
            "Epoch 54/100\n",
            "28/28 [==============================] - 0s 2ms/step - loss: 0.3107 - department_output_loss: 0.1334 - attrition_output_loss: 0.1773 - department_output_accuracy: 0.9614 - attrition_output_accuracy: 0.9410 - val_loss: 2.6207 - val_department_output_loss: 2.0288 - val_attrition_output_loss: 0.5918 - val_department_output_accuracy: 0.5158 - val_attrition_output_accuracy: 0.8190\n",
            "Epoch 55/100\n",
            "28/28 [==============================] - 0s 2ms/step - loss: 0.3085 - department_output_loss: 0.1291 - attrition_output_loss: 0.1794 - department_output_accuracy: 0.9716 - attrition_output_accuracy: 0.9251 - val_loss: 2.6973 - val_department_output_loss: 2.1160 - val_attrition_output_loss: 0.5813 - val_department_output_accuracy: 0.4932 - val_attrition_output_accuracy: 0.8235\n",
            "Epoch 56/100\n",
            "28/28 [==============================] - 0s 2ms/step - loss: 0.2904 - department_output_loss: 0.1208 - attrition_output_loss: 0.1695 - department_output_accuracy: 0.9728 - attrition_output_accuracy: 0.9376 - val_loss: 2.7749 - val_department_output_loss: 2.2053 - val_attrition_output_loss: 0.5697 - val_department_output_accuracy: 0.4932 - val_attrition_output_accuracy: 0.8145\n",
            "Epoch 57/100\n",
            "28/28 [==============================] - 0s 2ms/step - loss: 0.2836 - department_output_loss: 0.1135 - attrition_output_loss: 0.1701 - department_output_accuracy: 0.9716 - attrition_output_accuracy: 0.9364 - val_loss: 2.7800 - val_department_output_loss: 2.2022 - val_attrition_output_loss: 0.5778 - val_department_output_accuracy: 0.5023 - val_attrition_output_accuracy: 0.8190\n",
            "Epoch 58/100\n",
            "28/28 [==============================] - 0s 3ms/step - loss: 0.2647 - department_output_loss: 0.1009 - attrition_output_loss: 0.1638 - department_output_accuracy: 0.9796 - attrition_output_accuracy: 0.9410 - val_loss: 2.7874 - val_department_output_loss: 2.2334 - val_attrition_output_loss: 0.5540 - val_department_output_accuracy: 0.5113 - val_attrition_output_accuracy: 0.8235\n",
            "Epoch 59/100\n",
            "28/28 [==============================] - 0s 2ms/step - loss: 0.2585 - department_output_loss: 0.0999 - attrition_output_loss: 0.1586 - department_output_accuracy: 0.9807 - attrition_output_accuracy: 0.9421 - val_loss: 2.8742 - val_department_output_loss: 2.2977 - val_attrition_output_loss: 0.5765 - val_department_output_accuracy: 0.4932 - val_attrition_output_accuracy: 0.8326\n",
            "Epoch 60/100\n",
            "28/28 [==============================] - 0s 2ms/step - loss: 0.2513 - department_output_loss: 0.0968 - attrition_output_loss: 0.1544 - department_output_accuracy: 0.9830 - attrition_output_accuracy: 0.9478 - val_loss: 3.0679 - val_department_output_loss: 2.4865 - val_attrition_output_loss: 0.5813 - val_department_output_accuracy: 0.5158 - val_attrition_output_accuracy: 0.7919\n",
            "Epoch 61/100\n",
            "28/28 [==============================] - 0s 2ms/step - loss: 0.2776 - department_output_loss: 0.1141 - attrition_output_loss: 0.1635 - department_output_accuracy: 0.9682 - attrition_output_accuracy: 0.9353 - val_loss: 2.9552 - val_department_output_loss: 2.3748 - val_attrition_output_loss: 0.5804 - val_department_output_accuracy: 0.4842 - val_attrition_output_accuracy: 0.8281\n",
            "Epoch 62/100\n",
            "28/28 [==============================] - 0s 2ms/step - loss: 0.2326 - department_output_loss: 0.0858 - attrition_output_loss: 0.1467 - department_output_accuracy: 0.9852 - attrition_output_accuracy: 0.9467 - val_loss: 2.9662 - val_department_output_loss: 2.3972 - val_attrition_output_loss: 0.5690 - val_department_output_accuracy: 0.4977 - val_attrition_output_accuracy: 0.8190\n",
            "Epoch 63/100\n",
            "28/28 [==============================] - 0s 2ms/step - loss: 0.2279 - department_output_loss: 0.0852 - attrition_output_loss: 0.1426 - department_output_accuracy: 0.9830 - attrition_output_accuracy: 0.9501 - val_loss: 2.9748 - val_department_output_loss: 2.3803 - val_attrition_output_loss: 0.5945 - val_department_output_accuracy: 0.4887 - val_attrition_output_accuracy: 0.8235\n",
            "Epoch 64/100\n",
            "28/28 [==============================] - 0s 2ms/step - loss: 0.2207 - department_output_loss: 0.0791 - attrition_output_loss: 0.1416 - department_output_accuracy: 0.9875 - attrition_output_accuracy: 0.9489 - val_loss: 3.1459 - val_department_output_loss: 2.5571 - val_attrition_output_loss: 0.5888 - val_department_output_accuracy: 0.5068 - val_attrition_output_accuracy: 0.8235\n",
            "Epoch 65/100\n",
            "28/28 [==============================] - 0s 2ms/step - loss: 0.2285 - department_output_loss: 0.0865 - attrition_output_loss: 0.1420 - department_output_accuracy: 0.9807 - attrition_output_accuracy: 0.9535 - val_loss: 3.1547 - val_department_output_loss: 2.5371 - val_attrition_output_loss: 0.6176 - val_department_output_accuracy: 0.5068 - val_attrition_output_accuracy: 0.8235\n",
            "Epoch 66/100\n",
            "28/28 [==============================] - 0s 2ms/step - loss: 0.2049 - department_output_loss: 0.0735 - attrition_output_loss: 0.1314 - department_output_accuracy: 0.9898 - attrition_output_accuracy: 0.9591 - val_loss: 3.1669 - val_department_output_loss: 2.5447 - val_attrition_output_loss: 0.6222 - val_department_output_accuracy: 0.4661 - val_attrition_output_accuracy: 0.8145\n",
            "Epoch 67/100\n",
            "28/28 [==============================] - 0s 2ms/step - loss: 0.1950 - department_output_loss: 0.0681 - attrition_output_loss: 0.1269 - department_output_accuracy: 0.9921 - attrition_output_accuracy: 0.9603 - val_loss: 3.1273 - val_department_output_loss: 2.5158 - val_attrition_output_loss: 0.6115 - val_department_output_accuracy: 0.4887 - val_attrition_output_accuracy: 0.8281\n",
            "Epoch 68/100\n",
            "28/28 [==============================] - 0s 2ms/step - loss: 0.1896 - department_output_loss: 0.0668 - attrition_output_loss: 0.1228 - department_output_accuracy: 0.9921 - attrition_output_accuracy: 0.9591 - val_loss: 3.2269 - val_department_output_loss: 2.5934 - val_attrition_output_loss: 0.6334 - val_department_output_accuracy: 0.5023 - val_attrition_output_accuracy: 0.8235\n",
            "Epoch 69/100\n",
            "28/28 [==============================] - 0s 2ms/step - loss: 0.1735 - department_output_loss: 0.0567 - attrition_output_loss: 0.1168 - department_output_accuracy: 0.9932 - attrition_output_accuracy: 0.9671 - val_loss: 3.4003 - val_department_output_loss: 2.7804 - val_attrition_output_loss: 0.6198 - val_department_output_accuracy: 0.4887 - val_attrition_output_accuracy: 0.8235\n",
            "Epoch 70/100\n",
            "28/28 [==============================] - 0s 2ms/step - loss: 0.1736 - department_output_loss: 0.0552 - attrition_output_loss: 0.1184 - department_output_accuracy: 0.9955 - attrition_output_accuracy: 0.9603 - val_loss: 3.2578 - val_department_output_loss: 2.6476 - val_attrition_output_loss: 0.6102 - val_department_output_accuracy: 0.4796 - val_attrition_output_accuracy: 0.7919\n",
            "Epoch 71/100\n",
            "28/28 [==============================] - 0s 2ms/step - loss: 0.1766 - department_output_loss: 0.0547 - attrition_output_loss: 0.1219 - department_output_accuracy: 0.9921 - attrition_output_accuracy: 0.9614 - val_loss: 3.3690 - val_department_output_loss: 2.6694 - val_attrition_output_loss: 0.6997 - val_department_output_accuracy: 0.5023 - val_attrition_output_accuracy: 0.8009\n",
            "Epoch 72/100\n",
            "28/28 [==============================] - 0s 2ms/step - loss: 0.1612 - department_output_loss: 0.0502 - attrition_output_loss: 0.1111 - department_output_accuracy: 0.9909 - attrition_output_accuracy: 0.9580 - val_loss: 3.3857 - val_department_output_loss: 2.7265 - val_attrition_output_loss: 0.6592 - val_department_output_accuracy: 0.4932 - val_attrition_output_accuracy: 0.8100\n",
            "Epoch 73/100\n",
            "28/28 [==============================] - 0s 2ms/step - loss: 0.1545 - department_output_loss: 0.0492 - attrition_output_loss: 0.1053 - department_output_accuracy: 0.9943 - attrition_output_accuracy: 0.9659 - val_loss: 3.4062 - val_department_output_loss: 2.7390 - val_attrition_output_loss: 0.6672 - val_department_output_accuracy: 0.4932 - val_attrition_output_accuracy: 0.8145\n",
            "Epoch 74/100\n",
            "28/28 [==============================] - 0s 2ms/step - loss: 0.1477 - department_output_loss: 0.0471 - attrition_output_loss: 0.1006 - department_output_accuracy: 0.9955 - attrition_output_accuracy: 0.9762 - val_loss: 3.6582 - val_department_output_loss: 2.9390 - val_attrition_output_loss: 0.7192 - val_department_output_accuracy: 0.4977 - val_attrition_output_accuracy: 0.8100\n",
            "Epoch 75/100\n",
            "28/28 [==============================] - 0s 2ms/step - loss: 0.1526 - department_output_loss: 0.0479 - attrition_output_loss: 0.1047 - department_output_accuracy: 0.9955 - attrition_output_accuracy: 0.9705 - val_loss: 3.6317 - val_department_output_loss: 2.8905 - val_attrition_output_loss: 0.7413 - val_department_output_accuracy: 0.4887 - val_attrition_output_accuracy: 0.8100\n",
            "Epoch 76/100\n",
            "28/28 [==============================] - 0s 2ms/step - loss: 0.1355 - department_output_loss: 0.0404 - attrition_output_loss: 0.0951 - department_output_accuracy: 0.9966 - attrition_output_accuracy: 0.9762 - val_loss: 3.4562 - val_department_output_loss: 2.7782 - val_attrition_output_loss: 0.6780 - val_department_output_accuracy: 0.5113 - val_attrition_output_accuracy: 0.8100\n",
            "Epoch 77/100\n",
            "28/28 [==============================] - 0s 2ms/step - loss: 0.1441 - department_output_loss: 0.0444 - attrition_output_loss: 0.0998 - department_output_accuracy: 0.9966 - attrition_output_accuracy: 0.9682 - val_loss: 3.7590 - val_department_output_loss: 3.1038 - val_attrition_output_loss: 0.6552 - val_department_output_accuracy: 0.5023 - val_attrition_output_accuracy: 0.8054\n",
            "Epoch 78/100\n",
            "28/28 [==============================] - 0s 2ms/step - loss: 0.1416 - department_output_loss: 0.0508 - attrition_output_loss: 0.0907 - department_output_accuracy: 0.9932 - attrition_output_accuracy: 0.9784 - val_loss: 3.6667 - val_department_output_loss: 2.9542 - val_attrition_output_loss: 0.7124 - val_department_output_accuracy: 0.5023 - val_attrition_output_accuracy: 0.8190\n",
            "Epoch 79/100\n",
            "28/28 [==============================] - 0s 2ms/step - loss: 0.1271 - department_output_loss: 0.0397 - attrition_output_loss: 0.0875 - department_output_accuracy: 0.9989 - attrition_output_accuracy: 0.9750 - val_loss: 3.7881 - val_department_output_loss: 3.0392 - val_attrition_output_loss: 0.7488 - val_department_output_accuracy: 0.4977 - val_attrition_output_accuracy: 0.8100\n",
            "Epoch 80/100\n",
            "28/28 [==============================] - 0s 2ms/step - loss: 0.1137 - department_output_loss: 0.0333 - attrition_output_loss: 0.0804 - department_output_accuracy: 0.9989 - attrition_output_accuracy: 0.9818 - val_loss: 3.6636 - val_department_output_loss: 2.9486 - val_attrition_output_loss: 0.7150 - val_department_output_accuracy: 0.4796 - val_attrition_output_accuracy: 0.8190\n",
            "Epoch 81/100\n",
            "28/28 [==============================] - 0s 2ms/step - loss: 0.1182 - department_output_loss: 0.0321 - attrition_output_loss: 0.0861 - department_output_accuracy: 1.0000 - attrition_output_accuracy: 0.9773 - val_loss: 3.8764 - val_department_output_loss: 3.1167 - val_attrition_output_loss: 0.7597 - val_department_output_accuracy: 0.5023 - val_attrition_output_accuracy: 0.7964\n",
            "Epoch 82/100\n",
            "28/28 [==============================] - 0s 2ms/step - loss: 0.1083 - department_output_loss: 0.0305 - attrition_output_loss: 0.0777 - department_output_accuracy: 0.9977 - attrition_output_accuracy: 0.9807 - val_loss: 3.8462 - val_department_output_loss: 3.1074 - val_attrition_output_loss: 0.7387 - val_department_output_accuracy: 0.5023 - val_attrition_output_accuracy: 0.8054\n",
            "Epoch 83/100\n",
            "28/28 [==============================] - 0s 2ms/step - loss: 0.1015 - department_output_loss: 0.0307 - attrition_output_loss: 0.0708 - department_output_accuracy: 0.9977 - attrition_output_accuracy: 0.9830 - val_loss: 3.8810 - val_department_output_loss: 3.1132 - val_attrition_output_loss: 0.7678 - val_department_output_accuracy: 0.5023 - val_attrition_output_accuracy: 0.8145\n",
            "Epoch 84/100\n",
            "28/28 [==============================] - 0s 2ms/step - loss: 0.0972 - department_output_loss: 0.0302 - attrition_output_loss: 0.0670 - department_output_accuracy: 0.9977 - attrition_output_accuracy: 0.9886 - val_loss: 4.0409 - val_department_output_loss: 3.2638 - val_attrition_output_loss: 0.7772 - val_department_output_accuracy: 0.5113 - val_attrition_output_accuracy: 0.8100\n",
            "Epoch 85/100\n",
            "28/28 [==============================] - 0s 2ms/step - loss: 0.1038 - department_output_loss: 0.0371 - attrition_output_loss: 0.0666 - department_output_accuracy: 0.9955 - attrition_output_accuracy: 0.9852 - val_loss: 4.0620 - val_department_output_loss: 3.2990 - val_attrition_output_loss: 0.7631 - val_department_output_accuracy: 0.5113 - val_attrition_output_accuracy: 0.8190\n",
            "Epoch 86/100\n",
            "28/28 [==============================] - 0s 2ms/step - loss: 0.0994 - department_output_loss: 0.0350 - attrition_output_loss: 0.0644 - department_output_accuracy: 0.9966 - attrition_output_accuracy: 0.9852 - val_loss: 4.1479 - val_department_output_loss: 3.3767 - val_attrition_output_loss: 0.7712 - val_department_output_accuracy: 0.4887 - val_attrition_output_accuracy: 0.8100\n",
            "Epoch 87/100\n",
            "28/28 [==============================] - 0s 2ms/step - loss: 0.0920 - department_output_loss: 0.0313 - attrition_output_loss: 0.0607 - department_output_accuracy: 0.9989 - attrition_output_accuracy: 0.9875 - val_loss: 3.9775 - val_department_output_loss: 3.2009 - val_attrition_output_loss: 0.7766 - val_department_output_accuracy: 0.4932 - val_attrition_output_accuracy: 0.8054\n",
            "Epoch 88/100\n",
            "28/28 [==============================] - 0s 2ms/step - loss: 0.0898 - department_output_loss: 0.0284 - attrition_output_loss: 0.0615 - department_output_accuracy: 0.9977 - attrition_output_accuracy: 0.9875 - val_loss: 4.1553 - val_department_output_loss: 3.3818 - val_attrition_output_loss: 0.7735 - val_department_output_accuracy: 0.5023 - val_attrition_output_accuracy: 0.8100\n",
            "Epoch 89/100\n",
            "28/28 [==============================] - 0s 2ms/step - loss: 0.0812 - department_output_loss: 0.0253 - attrition_output_loss: 0.0559 - department_output_accuracy: 0.9989 - attrition_output_accuracy: 0.9875 - val_loss: 4.1868 - val_department_output_loss: 3.3482 - val_attrition_output_loss: 0.8386 - val_department_output_accuracy: 0.5068 - val_attrition_output_accuracy: 0.8145\n",
            "Epoch 90/100\n",
            "28/28 [==============================] - 0s 2ms/step - loss: 0.0743 - department_output_loss: 0.0233 - attrition_output_loss: 0.0510 - department_output_accuracy: 0.9989 - attrition_output_accuracy: 0.9886 - val_loss: 4.2679 - val_department_output_loss: 3.3767 - val_attrition_output_loss: 0.8912 - val_department_output_accuracy: 0.5068 - val_attrition_output_accuracy: 0.8100\n",
            "Epoch 91/100\n",
            "28/28 [==============================] - 0s 2ms/step - loss: 0.0836 - department_output_loss: 0.0239 - attrition_output_loss: 0.0596 - department_output_accuracy: 0.9977 - attrition_output_accuracy: 0.9852 - val_loss: 4.2216 - val_department_output_loss: 3.4330 - val_attrition_output_loss: 0.7887 - val_department_output_accuracy: 0.5113 - val_attrition_output_accuracy: 0.8054\n",
            "Epoch 92/100\n",
            "28/28 [==============================] - 0s 2ms/step - loss: 0.0762 - department_output_loss: 0.0257 - attrition_output_loss: 0.0505 - department_output_accuracy: 0.9966 - attrition_output_accuracy: 0.9886 - val_loss: 4.3528 - val_department_output_loss: 3.5152 - val_attrition_output_loss: 0.8376 - val_department_output_accuracy: 0.4842 - val_attrition_output_accuracy: 0.8054\n",
            "Epoch 93/100\n",
            "28/28 [==============================] - 0s 2ms/step - loss: 0.0736 - department_output_loss: 0.0249 - attrition_output_loss: 0.0487 - department_output_accuracy: 0.9989 - attrition_output_accuracy: 0.9921 - val_loss: 4.5353 - val_department_output_loss: 3.6454 - val_attrition_output_loss: 0.8899 - val_department_output_accuracy: 0.4977 - val_attrition_output_accuracy: 0.8145\n",
            "Epoch 94/100\n",
            "28/28 [==============================] - 0s 2ms/step - loss: 0.0703 - department_output_loss: 0.0254 - attrition_output_loss: 0.0449 - department_output_accuracy: 0.9989 - attrition_output_accuracy: 0.9932 - val_loss: 4.3722 - val_department_output_loss: 3.5333 - val_attrition_output_loss: 0.8388 - val_department_output_accuracy: 0.5158 - val_attrition_output_accuracy: 0.8100\n",
            "Epoch 95/100\n",
            "28/28 [==============================] - 0s 2ms/step - loss: 0.0644 - department_output_loss: 0.0209 - attrition_output_loss: 0.0436 - department_output_accuracy: 0.9989 - attrition_output_accuracy: 0.9932 - val_loss: 4.4062 - val_department_output_loss: 3.5381 - val_attrition_output_loss: 0.8681 - val_department_output_accuracy: 0.5068 - val_attrition_output_accuracy: 0.8100\n",
            "Epoch 96/100\n",
            "28/28 [==============================] - 0s 2ms/step - loss: 0.0843 - department_output_loss: 0.0344 - attrition_output_loss: 0.0500 - department_output_accuracy: 0.9921 - attrition_output_accuracy: 0.9886 - val_loss: 4.4239 - val_department_output_loss: 3.5277 - val_attrition_output_loss: 0.8962 - val_department_output_accuracy: 0.4977 - val_attrition_output_accuracy: 0.8100\n",
            "Epoch 97/100\n",
            "28/28 [==============================] - 0s 2ms/step - loss: 0.0930 - department_output_loss: 0.0484 - attrition_output_loss: 0.0447 - department_output_accuracy: 0.9886 - attrition_output_accuracy: 0.9886 - val_loss: 4.2771 - val_department_output_loss: 3.3409 - val_attrition_output_loss: 0.9362 - val_department_output_accuracy: 0.5023 - val_attrition_output_accuracy: 0.8054\n",
            "Epoch 98/100\n",
            "28/28 [==============================] - 0s 2ms/step - loss: 0.0912 - department_output_loss: 0.0482 - attrition_output_loss: 0.0430 - department_output_accuracy: 0.9852 - attrition_output_accuracy: 0.9921 - val_loss: 4.9281 - val_department_output_loss: 3.9589 - val_attrition_output_loss: 0.9692 - val_department_output_accuracy: 0.5385 - val_attrition_output_accuracy: 0.8009\n",
            "Epoch 99/100\n",
            "28/28 [==============================] - 0s 3ms/step - loss: 0.1447 - department_output_loss: 0.1016 - attrition_output_loss: 0.0431 - department_output_accuracy: 0.9637 - attrition_output_accuracy: 0.9921 - val_loss: 4.3605 - val_department_output_loss: 3.5250 - val_attrition_output_loss: 0.8355 - val_department_output_accuracy: 0.4661 - val_attrition_output_accuracy: 0.8100\n",
            "Epoch 100/100\n",
            "28/28 [==============================] - 0s 2ms/step - loss: 0.1048 - department_output_loss: 0.0635 - attrition_output_loss: 0.0413 - department_output_accuracy: 0.9830 - attrition_output_accuracy: 0.9909 - val_loss: 4.5344 - val_department_output_loss: 3.5688 - val_attrition_output_loss: 0.9656 - val_department_output_accuracy: 0.4842 - val_attrition_output_accuracy: 0.8145\n"
          ]
        }
      ],
      "source": [
        "# Train the model\n",
        "history = model.fit(X_train_scaled, {'department_output' : dept_train_encoded, 'attrition_output' : attr_train_encoded }, epochs=100, batch_size=32, validation_split=0.2, verbose=1)\n"
      ]
    },
    {
      "cell_type": "code",
      "execution_count": 26,
      "metadata": {
        "colab": {
          "base_uri": "https://localhost:8080/"
        },
        "id": "VsMoaQlgGc3U",
        "outputId": "1bd4e601-e964-4abc-ad83-aeecf6b696be"
      },
      "outputs": [
        {
          "name": "stdout",
          "output_type": "stream",
          "text": [
            "12/12 [==============================] - 0s 853us/step - loss: 3.7869 - department_output_loss: 2.9421 - attrition_output_loss: 0.8447 - department_output_accuracy: 0.5598 - attrition_output_accuracy: 0.8478\n"
          ]
        },
        {
          "data": {
            "text/plain": [
              "[3.786853313446045,\n",
              " 2.942131996154785,\n",
              " 0.8447214961051941,\n",
              " 0.5597826242446899,\n",
              " 0.8478260636329651]"
            ]
          },
          "execution_count": 26,
          "metadata": {},
          "output_type": "execute_result"
        }
      ],
      "source": [
        "# Evaluate the model with the testing data\n",
        "model.evaluate(X_test_scaled, {'department_output' : dept_test_encoded, 'attrition_output' : attr_test_encoded })"
      ]
    },
    {
      "cell_type": "code",
      "execution_count": 32,
      "metadata": {
        "colab": {
          "base_uri": "https://localhost:8080/"
        },
        "id": "ZlCtlHi0Vt54",
        "outputId": "bc21ef3e-80c2-4b38-9c29-79515bc23dec"
      },
      "outputs": [
        {
          "name": "stdout",
          "output_type": "stream",
          "text": [
            "12/12 [==============================] - 0s 750us/step - loss: 3.7869 - department_output_loss: 2.9421 - attrition_output_loss: 0.8447 - department_output_accuracy: 0.5598 - attrition_output_accuracy: 0.8478\n",
            "0.8478260636329651\n",
            "0.5597826242446899\n"
          ]
        }
      ],
      "source": [
        "# Print the accuracy for both department and attrition\n",
        "model_output = model.evaluate(X_test_scaled, {'department_output': dept_test_encoded, 'attrition_output': attr_test_encoded}, return_dict=True)\n",
        "\n",
        "#print(f\"Department predictions accuracy: {department_output_accuracy}, Attrition Predictions Accuracy:{attrition_output_accuracy}\")\n",
        "print(model_output['attrition_output_accuracy'])\n",
        "print(model_output['department_output_accuracy'])"
      ]
    },
    {
      "cell_type": "markdown",
      "metadata": {
        "id": "eGSyfsZfWOQM"
      },
      "source": [
        "# Summary\n",
        "\n",
        "In the provided space below, briefly answer the following questions.\n",
        "\n",
        "1. Is accuracy the best metric to use on this data? Why or why not?\n",
        "\n",
        "2. What activation functions did you choose for your output layers, and why?\n",
        "\n",
        "3. Can you name a few ways that this model might be improved?"
      ]
    },
    {
      "cell_type": "markdown",
      "metadata": {
        "id": "pi9SLpFnWvbF"
      },
      "source": [
        "YOUR ANSWERS HERE\n",
        "\n",
        "1. For this scenario, accuracy is best metric. Since depending upon the accuracy we can start thinking if this model is worth twicking or not. In some scenarios accuracy can be a major indicator of model's worthiness.\n",
        "2. Activation methods used are 'sigmoid' and 'softmax'. Sigmoid is used for binary classification and softmax is used for multi-class classification. Both transform raw neural network outputs into interpretable probabilities, enable proper loss calculation and gradient-based optimization in training.\n",
        "3. Hyperparameter tuning, Train multiple models and combine predictions, feature engineering, Data augmentation, these are couple of ways to improve the model"
      ]
    },
    {
      "cell_type": "markdown",
      "metadata": {},
      "source": []
    }
  ],
  "metadata": {
    "colab": {
      "provenance": []
    },
    "kernelspec": {
      "display_name": "dev2",
      "language": "python",
      "name": "python3"
    },
    "language_info": {
      "codemirror_mode": {
        "name": "ipython",
        "version": 3
      },
      "file_extension": ".py",
      "mimetype": "text/x-python",
      "name": "python",
      "nbconvert_exporter": "python",
      "pygments_lexer": "ipython3",
      "version": "3.10.13"
    }
  },
  "nbformat": 4,
  "nbformat_minor": 0
}
